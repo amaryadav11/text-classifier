{
 "cells": [
  {
   "cell_type": "code",
   "execution_count": 13,
   "metadata": {},
   "outputs": [
    {
     "name": "stdout",
     "output_type": "stream",
     "text": [
      "0        i did not enjoy the film eraser whatsoever. it...\n",
      "1        be very afraid of anyone who likes this film. ...\n",
      "2        the 3rd and last big screen spin off from the ...\n",
      "3        barely three and a half years after just scrap...\n",
      "4        i'm a big fan of the demonic puppets. looking ...\n",
      "                               ...                        \n",
      "24995    great just great! the west coast got \"dirty\" h...\n",
      "24996    this movie has all the qualities to be good, s...\n",
      "24997    personally, i think kevin spacey is one of the...\n",
      "24998    i'm not sure as to call this movie a children'...\n",
      "24999    good to see i'm not the only person who rememb...\n",
      "Name: 0, Length: 25000, dtype: object\n"
     ]
    }
   ],
   "source": [
    "import pandas as pd\n",
    "df = pd.read_csv('test_data.csv')\n",
    "print()"
   ]
  },
  {
   "cell_type": "code",
   "execution_count": null,
   "metadata": {},
   "outputs": [],
   "source": []
  }
 ],
 "metadata": {
  "kernelspec": {
   "display_name": "Python 3",
   "language": "python",
   "name": "python3"
  },
  "language_info": {
   "codemirror_mode": {
    "name": "ipython",
    "version": 3
   },
   "file_extension": ".py",
   "mimetype": "text/x-python",
   "name": "python",
   "nbconvert_exporter": "python",
   "pygments_lexer": "ipython3",
   "version": "3.8.3"
  }
 },
 "nbformat": 4,
 "nbformat_minor": 4
}
